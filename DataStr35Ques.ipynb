{
 "cells": [
  {
   "cell_type": "markdown",
   "id": "33a812d1-0c68-45ac-a0fa-e9dcdad314a1",
   "metadata": {},
   "source": [
    "# Assignments: Data Structures in Python"
   ]
  },
  {
   "cell_type": "markdown",
   "id": "2bb963d9-97af-431d-91af-e5333a5cf23c",
   "metadata": {},
   "source": [
    " #### Q1. Write a code to reverse a string."
   ]
  },
  {
   "cell_type": "code",
   "execution_count": 4,
   "id": "8296dff8-f717-4e38-aced-14ee59381a95",
   "metadata": {},
   "outputs": [
    {
     "name": "stdin",
     "output_type": "stream",
     "text": [
      "Enter your string:  This is my string\n"
     ]
    },
    {
     "name": "stdout",
     "output_type": "stream",
     "text": [
      "The reversed string:  gnirts ym si sihT\n"
     ]
    }
   ],
   "source": [
    "s1 = str(input(\"Enter your string: \"))\n",
    "print(\"The reversed string: \",s1[::-1])"
   ]
  },
  {
   "cell_type": "markdown",
   "id": "ee056549-7ab4-4700-aa55-579bbfe8ab82",
   "metadata": {},
   "source": [
    "#### Q2. Write a code to count the number of vowels in the string."
   ]
  },
  {
   "cell_type": "code",
   "execution_count": 11,
   "id": "84259dbf-a490-4d26-b25b-336d57d3c331",
   "metadata": {},
   "outputs": [
    {
     "name": "stdin",
     "output_type": "stream",
     "text": [
      "Enter your string:  My name is Piyush\n"
     ]
    },
    {
     "name": "stdout",
     "output_type": "stream",
     "text": [
      "'My name is Piyush' This string have 5 vowels\n"
     ]
    }
   ],
   "source": [
    "s2 = str(input(\"Enter your string: \"))\n",
    "count = 0\n",
    "for i in s2:\n",
    "    if i==\"a\" or i==\"e\" or i==\"i\" or i==\"o\" or i==\"u\" or i==\"A\" or i==\"E\" or i==\"I\" or i==\"O\" or i==\"U\":\n",
    "        count += 1\n",
    "print(f\"'{s2}' This string have {count} vowels\")"
   ]
  },
  {
   "cell_type": "markdown",
   "id": "e774caf2-b3d5-433d-85ce-3626270b32b1",
   "metadata": {},
   "source": [
    "#### Q3. Write a code to check if a given string is a palindrome or not."
   ]
  },
  {
   "cell_type": "code",
   "execution_count": 10,
   "id": "f56f4612-8332-438c-89f5-60b2ce2a635a",
   "metadata": {},
   "outputs": [
    {
     "name": "stdin",
     "output_type": "stream",
     "text": [
      "Enter your string:  Malayalam\n"
     ]
    },
    {
     "name": "stdout",
     "output_type": "stream",
     "text": [
      "\"malayalam\" is a palindrome\n"
     ]
    }
   ],
   "source": [
    "s3 = str(input(\"Enter your string: \"))\n",
    "s3 = s3.replace(\" \", \"\").lower() #converting the string in lowercase and avoid whitespaces.\n",
    "if s3 == s3[::-1]: # checking if the given string and the reversed string is equal or not.\n",
    "    print(f'\"{s3}\" is a palindrome')\n",
    "else:\n",
    "    print(f'\"{s3}\" is not a palindrome')\n"
   ]
  },
  {
   "cell_type": "markdown",
   "id": "9896757f-fd66-4b8b-a78c-22dc6ae11c52",
   "metadata": {},
   "source": [
    "#### Q4. Write a code to check if two given strings are anagrams of each other."
   ]
  },
  {
   "cell_type": "code",
   "execution_count": 19,
   "id": "d8e52ba6-cc55-47e1-96cb-0a72d26d245d",
   "metadata": {},
   "outputs": [
    {
     "name": "stdin",
     "output_type": "stream",
     "text": [
      "Enter your first string:  silent\n",
      "Enter your second string:  listen\n"
     ]
    },
    {
     "name": "stdout",
     "output_type": "stream",
     "text": [
      "'silent' and 'listen' are alagram of each other\n"
     ]
    }
   ],
   "source": [
    "s4 = str(input(\"Enter your first string: \"))\n",
    "s5 = str(input(\"Enter your second string: \"))\n",
    "d1 = set(s4) # converted(typecasting) s4 into set2\n",
    "d2 = set(s5) # converted(typecasting) s5 into set2\n",
    "if d1==d2: # checking if d1(set1) and d2(set2) are equal or not.\n",
    "    print(f\"'{s4}' and '{s5}' are alagram of each other\")\n",
    "else: \n",
    "    print(f\"'{s4}' and '{s5}' are alagram of each other\")"
   ]
  },
  {
   "cell_type": "markdown",
   "id": "6d6930ad-1463-4ce8-92e2-90419537c0af",
   "metadata": {},
   "source": [
    "#### Q5. Write a code to find all occurrences of a given substring within another string."
   ]
  },
  {
   "cell_type": "code",
   "execution_count": 8,
   "id": "f084ab59-a312-4b75-93e2-389d5db2a249",
   "metadata": {},
   "outputs": [
    {
     "name": "stdin",
     "output_type": "stream",
     "text": [
      "Enter your main string:  the main string is this and this is made by too many substrings\n",
      "Enter your substring:  this\n"
     ]
    },
    {
     "name": "stdout",
     "output_type": "stream",
     "text": [
      "The occurances of 'this' in the 'the main string is this and this is made by too many substrings' are at indices: [19, 28]\n"
     ]
    }
   ],
   "source": [
    "s6 = str(input(\"Enter your main string: \"))\n",
    "s7 = str(input(\"Enter your substring: \"))\n",
    "start = 0\n",
    "occurance = []\n",
    "stringLen = len(s6)\n",
    "subLen = len(s7)\n",
    "\n",
    "while start <= stringLen - subLen:\n",
    "    match = True\n",
    "    for i in range(subLen):\n",
    "        if s6[start+i] != s7[i]:\n",
    "            match = False\n",
    "            break\n",
    "    if match:\n",
    "        occurance.append(start)\n",
    "    start += 1\n",
    "print(f\"The occurances of '{s7}' in the '{s6}' are at indices: {occurance}\")"
   ]
  },
  {
   "cell_type": "markdown",
   "id": "9441b37a-659c-4fff-9846-15d4545644ce",
   "metadata": {},
   "source": [
    "#### Q6. Write a code to perform basic string compression using the counts of repeated characters."
   ]
  },
  {
   "cell_type": "code",
   "execution_count": 11,
   "id": "7177e4ce-f1f9-4555-9df0-b1ae8170f4e0",
   "metadata": {},
   "outputs": [
    {
     "name": "stdin",
     "output_type": "stream",
     "text": [
      "Enter the main sring:  AAAABBBBBBCCAAA\n"
     ]
    },
    {
     "name": "stdout",
     "output_type": "stream",
     "text": [
      "Compressed string: A4B6C2A3\n"
     ]
    }
   ],
   "source": [
    "s8 = str(input(\"Enter the main sring: \"))\n",
    "compression = \"\"\n",
    "count = 1\n",
    "Length = len(s8)\n",
    "for i in range(1, Length):\n",
    "    if s8[i] == s8[i-1]:\n",
    "        count += 1\n",
    "    else:\n",
    "        compression += s8[i-1] + str(count)\n",
    "        count = 1\n",
    "if Length > 0:\n",
    "    compression+= s8[-1] + str(count)\n",
    "\n",
    "if len(compression) < Length:\n",
    "    print(\"Compressed string:\", compression)\n",
    "else:\n",
    "    print(\"Compressed string:\", s8)"
   ]
  },
  {
   "cell_type": "markdown",
   "id": "995cd4e6-18c5-4f3a-a8c9-0d5517bc64c8",
   "metadata": {},
   "source": [
    "#### Q7. Write a code to determine if a string has all unique characters."
   ]
  },
  {
   "cell_type": "code",
   "execution_count": 19,
   "id": "d5f1cfb3-8798-4387-8066-b11a8e721862",
   "metadata": {},
   "outputs": [
    {
     "name": "stdin",
     "output_type": "stream",
     "text": [
      "Enter your string:  ABBCDE\n"
     ]
    },
    {
     "name": "stdout",
     "output_type": "stream",
     "text": [
      "The string has duplicate characters\n"
     ]
    }
   ],
   "source": [
    "s9 = str(input(\"Enter your string: \"))\n",
    "seen = set()\n",
    "unique = True # assume that the string has no unique characters\n",
    "for i in s9:\n",
    "    if i in seen:\n",
    "        unique = False\n",
    "        break\n",
    "    seen.add(i)\n",
    "if unique:\n",
    "    print(\"The string has all unique characters\")\n",
    "else:\n",
    "    print(\"The string has duplicate characters\")"
   ]
  },
  {
   "cell_type": "markdown",
   "id": "36b935b0-b857-45e4-ae3a-2faad67fcab5",
   "metadata": {},
   "source": [
    "#### Q8. Write a code to convert a given string to uppercase or lowercase."
   ]
  },
  {
   "cell_type": "code",
   "execution_count": 1,
   "id": "cfc91e8e-e24d-48ee-8e1e-00da47aa0829",
   "metadata": {},
   "outputs": [
    {
     "name": "stdin",
     "output_type": "stream",
     "text": [
      "Enter the string:  Piyush\n"
     ]
    },
    {
     "name": "stdout",
     "output_type": "stream",
     "text": [
      "PIYUSH\n",
      "piyush\n"
     ]
    }
   ],
   "source": [
    "s10 = str(input(\"Enter the string: \"))\n",
    "print(s10.upper())\n",
    "print(s10.lower())"
   ]
  },
  {
   "cell_type": "markdown",
   "id": "f552072b-8b7a-4c8a-890b-9f614c92aa57",
   "metadata": {},
   "source": [
    "#### Q9. Write a code to count the number of words in a string."
   ]
  },
  {
   "cell_type": "code",
   "execution_count": 6,
   "id": "30153d85-84d0-4226-beff-9fe1e2d4cb23",
   "metadata": {},
   "outputs": [
    {
     "name": "stdin",
     "output_type": "stream",
     "text": [
      "Enter your string:  The game was amezing and I am very tired\n"
     ]
    },
    {
     "name": "stdout",
     "output_type": "stream",
     "text": [
      "The totoal no of words = 9\n"
     ]
    }
   ],
   "source": [
    "s11 = str(input(\"Enter your string: \"))\n",
    "count = 1\n",
    "for i in s11:\n",
    "    if i == \" \":\n",
    "        count += 1\n",
    "print(f\"The totoal no of words = {count}\")"
   ]
  },
  {
   "cell_type": "markdown",
   "id": "ef4c513d-a73f-4620-a6e0-d11a05cc8dac",
   "metadata": {},
   "source": [
    "#### Q10. Write a code to concatenate two strings without using the + operator."
   ]
  },
  {
   "cell_type": "code",
   "execution_count": 10,
   "id": "4143bf2a-caa2-414c-9b89-c37deef37e78",
   "metadata": {},
   "outputs": [
    {
     "name": "stdin",
     "output_type": "stream",
     "text": [
      "Enter first string:  This is first\n",
      "Enter second string:  This is second\n"
     ]
    },
    {
     "name": "stdout",
     "output_type": "stream",
     "text": [
      "This is firstThis is second\n"
     ]
    }
   ],
   "source": [
    "s12 = str(input(\"Enter first string: \"))\n",
    "s13 = str(input(\"Enter second string: \"))\n",
    "print(\"\".join([s12, s13]))"
   ]
  },
  {
   "cell_type": "markdown",
   "id": "efb528ca-088f-4464-9a6f-1883793ee54b",
   "metadata": {},
   "source": [
    "#### Q11. Write a code to remove all occurrences of a specific element from a list."
   ]
  },
  {
   "cell_type": "code",
   "execution_count": 33,
   "id": "a702097b-9388-42c7-9e2b-a16922db7c6b",
   "metadata": {},
   "outputs": [
    {
     "name": "stdin",
     "output_type": "stream",
     "text": [
      "Enter element to remove:  12\n"
     ]
    },
    {
     "name": "stdout",
     "output_type": "stream",
     "text": [
      "original list:  [11, 12, 13, 12, 14, 12]\n",
      "element eleminated list:  [11, 13, 14]\n"
     ]
    }
   ],
   "source": [
    "l1 = [11, 12, 13, 12, 14, 12]\n",
    "ele = int(input(\"Enter element to remove: \"))\n",
    "print(\"original list: \",l1)\n",
    "ans = [x for x in l1 if x!=ele]\n",
    "print(\"element eleminated list: \",ans)"
   ]
  },
  {
   "cell_type": "markdown",
   "id": "1da66568-0eaa-4ce8-b590-326c863bf262",
   "metadata": {},
   "source": [
    "#### Q.12 Implement a code to find the second largest number in a given list of integers."
   ]
  },
  {
   "cell_type": "code",
   "execution_count": 51,
   "id": "d325c840-51b7-4ee2-90f4-7608a9ae8a16",
   "metadata": {},
   "outputs": [
    {
     "name": "stdout",
     "output_type": "stream",
     "text": [
      "6\n"
     ]
    }
   ],
   "source": [
    "l2 = [1,2,3,4,5,6,7]\n",
    "l3 = [y for y in l2 if y < max(l2)]\n",
    "print(max(l3))"
   ]
  },
  {
   "cell_type": "markdown",
   "id": "691cd88d-823e-47a1-b146-e4147bf3d07f",
   "metadata": {},
   "source": [
    "#### Q13. Create a code to count the occurrences of each element in a list and return a dictionary with elements as keys and their counts as values."
   ]
  },
  {
   "cell_type": "code",
   "execution_count": 67,
   "id": "273b15c0-1a44-43c0-ae53-c816dd062413",
   "metadata": {},
   "outputs": [
    {
     "name": "stdout",
     "output_type": "stream",
     "text": [
      "{1: 3, 2: 1, 3: 1, 4: 2, 'Ajay': 2, 2.3: 2}\n"
     ]
    }
   ],
   "source": [
    "l4 = [1, 2, 1, 3, 1, 4, 4, \"Ajay\", 2.3, 2.3, \"Ajay\"]\n",
    "l = len(l4)\n",
    "d1 = {}\n",
    "for i in range(0, l):\n",
    "    count = 1\n",
    "    if l4[i] in d1:\n",
    "        continue\n",
    "    for j in range(i+1, l):\n",
    "        if l4[i] == l4[j]:\n",
    "            count += 1\n",
    "    d1[l4[i]] = count\n",
    "print(d1)      "
   ]
  },
  {
   "cell_type": "markdown",
   "id": "62a90aac-94ea-4890-a2ae-8b0756bb9749",
   "metadata": {},
   "source": [
    "#### Q14. Write a code to reverse a list in-place without using any built-in reverse functions."
   ]
  },
  {
   "cell_type": "code",
   "execution_count": 71,
   "id": "9fe8c6a6-8503-4273-9c69-ad1ead4b6bd0",
   "metadata": {},
   "outputs": [
    {
     "name": "stdout",
     "output_type": "stream",
     "text": [
      "134943096869312\n",
      "Reversed list: [5, 4, 3, 2, 1]\n",
      "134943096869312\n"
     ]
    }
   ],
   "source": [
    "l = [1, 2, 3, 4, 5]\n",
    "print(id(l))\n",
    "n = len(l)\n",
    "for i in range(n // 2):\n",
    "    l[i], l[n - i - 1] = l[n - i - 1], l[i]\n",
    "\n",
    "print(\"Reversed list:\", l)\n",
    "print(id(l))"
   ]
  },
  {
   "cell_type": "markdown",
   "id": "eadaa50a-a3c1-4102-8bf1-907deb3d5c35",
   "metadata": {},
   "source": [
    "#### Q15. Implement a code to find and remove duplicates from a list while preserving the original order of elements."
   ]
  },
  {
   "cell_type": "code",
   "execution_count": 73,
   "id": "70c0419c-cb7c-4b9b-8fd3-50f04d87dc6f",
   "metadata": {},
   "outputs": [
    {
     "name": "stdout",
     "output_type": "stream",
     "text": [
      "[2, 3, 4, 5, 6]\n"
     ]
    }
   ],
   "source": [
    "l5 = [2, 3, 2, 4, 3, 5, 6, 5]\n",
    "uniqueL = []\n",
    "seen = set()\n",
    "for i in l5:\n",
    "    if i not in seen:\n",
    "        uniqueL.append(i)\n",
    "        seen.add(i)\n",
    "print(uniqueL)"
   ]
  },
  {
   "cell_type": "markdown",
   "id": "bd0d4052-4d70-4992-b82d-5bb18e0d36ec",
   "metadata": {},
   "source": [
    "#### Q16. Create a code to check if a given list is sorted (either in ascending or descending order) or not."
   ]
  },
  {
   "cell_type": "code",
   "execution_count": 13,
   "id": "de4aa90a-a3d7-42d0-afb4-816080df55ce",
   "metadata": {},
   "outputs": [
    {
     "name": "stdout",
     "output_type": "stream",
     "text": [
      "The list is not sorted\n"
     ]
    }
   ],
   "source": [
    "l6 = [3,2,4,1,5,6,7]\n",
    "is_ascending = True\n",
    "is_descending = True\n",
    "for i in range(0, len(l6)-1):\n",
    "    if l6[i] < l6[i+1]:\n",
    "        is_descending = False \n",
    "    elif l6[i] > l6[i+1]:\n",
    "        is_ascending = False\n",
    "if is_ascending:\n",
    "    print(\"The list is sorted in ascending order\")\n",
    "elif is_descending:\n",
    "    print(\"The list is sorted in descending order\")\n",
    "else:\n",
    "    print(\"The list is not sorted\")"
   ]
  },
  {
   "cell_type": "markdown",
   "id": "f2f8b0a9-b558-4f8f-a489-b28945f9341e",
   "metadata": {},
   "source": [
    "#### Q17. Write a code to merge two sorted lists into a single sorted list."
   ]
  },
  {
   "cell_type": "code",
   "execution_count": 15,
   "id": "d30184fb-ffa4-46f2-8b7b-b6f7bace4feb",
   "metadata": {},
   "outputs": [
    {
     "name": "stdout",
     "output_type": "stream",
     "text": [
      "The merged list is:  [1, 2, 3, 4, 5, 6]\n"
     ]
    }
   ],
   "source": [
    "l7 = [1,2,3]\n",
    "l8 = [4,5,6]\n",
    "merge_list = []\n",
    "i, j = 0, 0\n",
    "while i < len(l7) and j < len(l8):\n",
    "    if l7[i] < l8[j]:\n",
    "        merge_list.append(l7[i])\n",
    "        i+=1\n",
    "    else:\n",
    "        merge_list.append(l8[j])\n",
    "        j+=1\n",
    "    while i<len(l7):\n",
    "        merge_list.append(l7[i])\n",
    "        i+=1\n",
    "    while j<len(l8):\n",
    "        merge_list.append(l8[j])\n",
    "        j+=1\n",
    "print(\"The merged list is: \",merge_list)"
   ]
  },
  {
   "cell_type": "markdown",
   "id": "f8f783b9-5b66-4afe-94d4-a1a8dd8004f8",
   "metadata": {},
   "source": [
    "#### Q18. Implement a code to find the intersection of two given lists."
   ]
  },
  {
   "cell_type": "code",
   "execution_count": 18,
   "id": "5eac3f8e-a1da-490e-ac25-767da10b9e99",
   "metadata": {},
   "outputs": [
    {
     "name": "stdout",
     "output_type": "stream",
     "text": [
      "The Intersection is:  {4, 5}\n"
     ]
    }
   ],
   "source": [
    "l9 = [1,2,3,4,5]\n",
    "l10 = [4,5,6,7,8]\n",
    "s1 = set(l9)\n",
    "s2 = set(l10)\n",
    "i, j = 0, 0\n",
    "intersection = s1.intersection(s2)\n",
    "print(\"The Intersection is: \", intersection)"
   ]
  },
  {
   "cell_type": "markdown",
   "id": "7d27e8af-19cd-4521-9a4c-644bbdab0b47",
   "metadata": {},
   "source": [
    "#### Q19. Create a code to find the union of two lists without duplicates."
   ]
  },
  {
   "cell_type": "code",
   "execution_count": 20,
   "id": "d31e86b5-ce24-49ed-9ab5-c0ceefd9892e",
   "metadata": {},
   "outputs": [
    {
     "name": "stdout",
     "output_type": "stream",
     "text": [
      "The union is:  {1, 2, 3, 4, 5, 6, 7, 8}\n"
     ]
    }
   ],
   "source": [
    "l11 = [1,2,3,4,4,5,6,6]\n",
    "l12 = [2,3,4,4,5,5,6,7,8,]\n",
    "s3 = set(l11)\n",
    "s4 = set(l12)\n",
    "union = s3.union(s4)\n",
    "print(\"The union is: \",union)"
   ]
  },
  {
   "cell_type": "markdown",
   "id": "1dcc0a67-8262-43f7-9773-2162016af863",
   "metadata": {},
   "source": [
    "#### Q20. Write a code to shuffle a given list randomly without using any built-in shuffle functions"
   ]
  },
  {
   "cell_type": "code",
   "execution_count": 34,
   "id": "58e97c44-3bc2-4bf9-9ec0-579bfa1c1fa3",
   "metadata": {},
   "outputs": [
    {
     "name": "stdout",
     "output_type": "stream",
     "text": [
      "The original list is:  [1, 2, 3, 4, 5, 6]\n",
      "The shuffeled list is:  [5, 4, 6, 2, 3, 1]\n"
     ]
    }
   ],
   "source": [
    "import random\n",
    "original = [1,2,3,4,5,6]\n",
    "print(\"The original list is: \",original)\n",
    "n = len(original)\n",
    "for i in range(n):\n",
    "    rand_index = random.randint(i, n-1)\n",
    "    original[i], original[rand_index] = original[rand_index], original[i]\n",
    "print(\"The shuffeled list is: \",original)"
   ]
  },
  {
   "cell_type": "markdown",
   "id": "cf544a2f-6538-4754-bfc9-a2fb4b632c93",
   "metadata": {},
   "source": [
    "#### Q21. Write a code that takes two tuples as input and returns a new tuple containing elements that are common to both input tuples."
   ]
  },
  {
   "cell_type": "code",
   "execution_count": 38,
   "id": "4e751588-da75-40db-9e9d-193df7ce872d",
   "metadata": {},
   "outputs": [
    {
     "name": "stdout",
     "output_type": "stream",
     "text": [
      "(3, 4, 5)\n"
     ]
    }
   ],
   "source": [
    "# Input tuples\n",
    "t1 = (1, 2, 3, 4, 5)\n",
    "t2 = (3, 4, 5, 6, 7)\n",
    "s5 = set(t1)\n",
    "s6 = set(t2)\n",
    "result = s5.intersection(s6)\n",
    "print(tuple(result))"
   ]
  },
  {
   "cell_type": "markdown",
   "id": "96fbce32-389a-4e63-97dd-e23f10637220",
   "metadata": {},
   "source": [
    "#### Q22. Create a code that prompts the user to enter two sets of integers separated by commas. Then, print the intersection of these two sets."
   ]
  },
  {
   "cell_type": "code",
   "execution_count": 43,
   "id": "f46dbfc4-2fd7-4449-a1a6-5a44ca59f728",
   "metadata": {},
   "outputs": [
    {
     "name": "stdin",
     "output_type": "stream",
     "text": [
      "Enter the first set of integers (separated by commas):  1,2,3,4,5\n",
      "Enter the second set of integers (separated by commas):  2,3,4,5,6,7\n"
     ]
    },
    {
     "name": "stdout",
     "output_type": "stream",
     "text": [
      "The intersection of the two sets is: {2, 3, 4, 5}\n"
     ]
    }
   ],
   "source": [
    "set1 = input(\"Enter the first set of integers (separated by commas): \")\n",
    "set2 = input(\"Enter the second set of integers (separated by commas): \")\n",
    "\n",
    "# Convert the input strings to sets of integers\n",
    "s1 = set(map(int, set1.split(',')))\n",
    "s2 = set(map(int, set2.split(',')))\n",
    "\n",
    "# Find the intersection of the two sets\n",
    "intersection = s1.intersection(s2)\n",
    "\n",
    "# Print the intersection\n",
    "print(\"The intersection of the two sets is:\", intersection)"
   ]
  },
  {
   "cell_type": "markdown",
   "id": "d20b5b7d-8912-44b2-a4b3-6f5cef4a0e94",
   "metadata": {},
   "source": [
    "#### Q23. Write a code to concatenate two tuples. The function should take two tuples as input and return a new tuple containing elements from both input tuples."
   ]
  },
  {
   "cell_type": "code",
   "execution_count": 51,
   "id": "18f96676-9872-4dac-9bf2-89ecc68d8a88",
   "metadata": {},
   "outputs": [
    {
     "name": "stdin",
     "output_type": "stream",
     "text": [
      "Enter the first tuple (comma-separated):  1,2,3,4,5\n",
      "Enter the second tuple (comma-separated):  2,3,4,5,6\n"
     ]
    },
    {
     "name": "stdout",
     "output_type": "stream",
     "text": [
      "The Concatinated Tuple is:  (1, 2, 3, 4, 5, 2, 3, 4, 5, 6)\n"
     ]
    }
   ],
   "source": [
    "def Concatenate(t3, t4):\n",
    "    t5 = t3+t4\n",
    "    return t5\n",
    "\n",
    "t3 = tuple(map(int, input(\"Enter the first tuple (comma-separated): \").split(',')))\n",
    "t4 = tuple(map(int, input(\"Enter the second tuple (comma-separated): \").split(',')))\n",
    "print(\"The Concatinated Tuple is: \",Concatenate(t3, t4))"
   ]
  },
  {
   "cell_type": "markdown",
   "id": "956d060b-fbbe-4291-9cd4-8eeea59cbbbb",
   "metadata": {},
   "source": [
    "#### Q24. Develop a code that prompts the user to input two sets of strings. Then, print the elements that are present in the first set but not in the second set.         "
   ]
  },
  {
   "cell_type": "code",
   "execution_count": 55,
   "id": "36a47371-d760-46bc-908b-862d544ab962",
   "metadata": {},
   "outputs": [
    {
     "name": "stdin",
     "output_type": "stream",
     "text": [
      "Enter the first set of strings (comma-separated):  A, B, C\n",
      "Enter the second set of strings (comma-separated):  A\n"
     ]
    },
    {
     "name": "stdout",
     "output_type": "stream",
     "text": [
      "Elements present in the first set but not in the second set: {'B', 'C'}\n"
     ]
    }
   ],
   "source": [
    "set1 = input(\"Enter the first set of strings (comma-separated): \")\n",
    "set2 = input(\"Enter the second set of strings (comma-separated): \")\n",
    "\n",
    "# Convert the input strings to sets with whitespace stripped\n",
    "s1 = set(item.strip() for item in set1.split(','))\n",
    "s2 = set(item.strip() for item in set2.split(','))\n",
    "\n",
    "# Find the difference between the two sets (elements in s1 but not in s2)\n",
    "difference = s1.difference(s2)\n",
    "\n",
    "# Print the result\n",
    "print(\"Elements present in the first set but not in the second set:\", difference)\n"
   ]
  },
  {
   "cell_type": "markdown",
   "id": "8db6e053-2bf3-4437-ad80-e6db1dd3f259",
   "metadata": {},
   "source": [
    "#### Q25. Create a code that takes a tuple and two integers as input. The function should return a new tuple containing elements from the original tuple within the specified range of indices."
   ]
  },
  {
   "cell_type": "code",
   "execution_count": 62,
   "id": "1de60609-96e3-4f87-885b-185d7204d8f9",
   "metadata": {},
   "outputs": [
    {
     "name": "stdin",
     "output_type": "stream",
     "text": [
      "Enter the tuple 1 (comma-separated):  1,2,3,4,5,6\n",
      "Enter the first number:  2\n",
      "Enter the second number:  4\n"
     ]
    },
    {
     "name": "stdout",
     "output_type": "stream",
     "text": [
      "The tuple with spacified range of indices is:  (2, 3, 4)\n"
     ]
    }
   ],
   "source": [
    "t1 = tuple(map(int, input(\"Enter the tuple 1 (comma-separated): \").split(',')))\n",
    "a = int(input(\"Enter the first number: \"))\n",
    "b = int(input(\"Enter the second number: \"))\n",
    "t2 = []\n",
    "for i in t1:\n",
    "    if a<= i <= b:\n",
    "        t2.append(i)\n",
    "    continue\n",
    "print(\"The tuple with spacified range of indices is: \",tuple(t2))"
   ]
  },
  {
   "cell_type": "markdown",
   "id": "58f6e80d-e872-4ad3-a94b-4095e624ea5e",
   "metadata": {},
   "source": [
    "#### Q26. Write a code that prompts the user to input two sets of characters. Then, print the union of these two sets."
   ]
  },
  {
   "cell_type": "code",
   "execution_count": null,
   "id": "7087c8ae-2e03-488f-962f-ce14a8d8de69",
   "metadata": {},
   "outputs": [],
   "source": [
    "set1 = input(\"Enter the first set of characters (comma-separated): \")\n",
    "set2 = input(\"Enter the second set of characters (comma-separated): \")\n",
    "# Convert the input strings to sets of characters\n",
    "s1 = set(set1.split(','))\n",
    "s2 = set(set2.split(','))\n",
    "# Find the union of the two sets\n",
    "union_set = s1.union(s2)\n",
    "# Print the union set\n",
    "print(\"The union of the two sets is:\", union_set)"
   ]
  },
  {
   "cell_type": "markdown",
   "id": "98b7cd7a-efb6-469a-9d7a-21b60c111fd6",
   "metadata": {},
   "source": [
    "#### Q27. Develop a code that takes a tuple of integers as input. The function should return the maximum and minimum values from the tuple using tuple unpacking"
   ]
  },
  {
   "cell_type": "code",
   "execution_count": null,
   "id": "966300d8-8110-4fdb-94a5-8a72a849bc7c",
   "metadata": {},
   "outputs": [],
   "source": [
    "def find_max_min(input_tuple):\n",
    "    # Unpacking the tuple into max and min values\n",
    "    max_value, min_value = max(input_tuple), min(input_tuple)\n",
    "    return max_value, min_value\n",
    "\n",
    "# Input: Tuple of integers\n",
    "t1 = tuple(map(int, input(\"Enter a tuple of integers (comma-separated): \").split(',')))\n",
    "\n",
    "# Calling the function and unpacking the result into max_value and min_value\n",
    "max_val, min_val = find_max_min(t1)\n",
    "\n",
    "# Output: Maximum and minimum values\n",
    "print(f\"The maximum value is: {max_val}\")\n",
    "print(f\"The minimum value is: {min_val}\")"
   ]
  },
  {
   "cell_type": "markdown",
   "id": "f4420b36-92a4-42e7-a81a-0bd624e58e1b",
   "metadata": {},
   "source": [
    "#### Q28. Create a code that defines two sets of integers. Then, print the union, intersection, and difference of these two sets."
   ]
  },
  {
   "cell_type": "code",
   "execution_count": 65,
   "id": "07f5152e-b154-488b-9bf0-2d3f9e684371",
   "metadata": {},
   "outputs": [
    {
     "name": "stdin",
     "output_type": "stream",
     "text": [
      "Enter the set 1(separated by comma):  1,2,3,4,5\n",
      "Enter the set 2(separated by comma):  3,4,5,6,7\n"
     ]
    },
    {
     "name": "stdout",
     "output_type": "stream",
     "text": [
      "{'4', '2', '3', '6', '7', '5', '1'}\n",
      "{'5', '4', '3'}\n",
      "{'1', '2'}\n"
     ]
    }
   ],
   "source": [
    "a1 = input(\"Enter the set 1(separated by comma): \")\n",
    "a2 = input(\"Enter the set 2(separated by comma): \")\n",
    "set1 = set((a1).split(','))\n",
    "set2 = set((a2).split(','))\n",
    "print(set1.union(set2))\n",
    "print(set1.intersection(set2))\n",
    "print(set1.difference(set2))"
   ]
  },
  {
   "cell_type": "markdown",
   "id": "84aa5da8-d494-493b-a291-f072670652db",
   "metadata": {},
   "source": [
    "#### Q29. Write a code that takes a tuple and an element as input. The function should return the count of occurrences of the given element in the tuple."
   ]
  },
  {
   "cell_type": "code",
   "execution_count": 68,
   "id": "93b6859e-74d1-4d15-bbe5-2bc1c550ae86",
   "metadata": {},
   "outputs": [
    {
     "name": "stdin",
     "output_type": "stream",
     "text": [
      "Enter the tuple (separated by comma):  1,2,3,4,5,4,4,5\n",
      "Enter a number:  4\n"
     ]
    },
    {
     "name": "stdout",
     "output_type": "stream",
     "text": [
      "The number of occurance of 4 in (1, 2, 3, 4, 5, 4, 4, 5) is 3\n"
     ]
    }
   ],
   "source": [
    "tup = tuple(map(int, input(\"Enter the tuple (separated by comma): \").split(',')))\n",
    "x = int(input(\"Enter a number: \"))\n",
    "count = 0\n",
    "for i in tup:\n",
    "    if i == x:\n",
    "        count +=1\n",
    "print(f\"The number of occurance of {x} in {tup} is {count}\") "
   ]
  },
  {
   "cell_type": "markdown",
   "id": "fe422b7a-fb13-41c9-89c4-4dc843c44e45",
   "metadata": {},
   "source": [
    "#### Q30. Develop a code that prompts the user to input two sets of strings. Then, print the symmetric difference of these two sets."
   ]
  },
  {
   "cell_type": "code",
   "execution_count": 72,
   "id": "c445be9a-9f7a-4407-a027-b397bcb732ff",
   "metadata": {},
   "outputs": [
    {
     "name": "stdin",
     "output_type": "stream",
     "text": [
      "Enter the first set of strings (comma-separated):  banana,grape,apple\n",
      "Enter the second set of strings (comma-separated):  apple,banana,orange\n"
     ]
    },
    {
     "name": "stdout",
     "output_type": "stream",
     "text": [
      "The symmetric difference of the two sets is: {'grape', 'orange'}\n"
     ]
    }
   ],
   "source": [
    "# Prompt the user to input two sets of strings (comma-separated)\n",
    "set1 = set(input(\"Enter the first set of strings (comma-separated): \").split(','))\n",
    "set2 = set(input(\"Enter the second set of strings (comma-separated): \").split(','))\n",
    "\n",
    "# Compute the symmetric difference\n",
    "sym_diff = set1.symmetric_difference(set2)\n",
    "\n",
    "# Output the symmetric difference\n",
    "print(\"The symmetric difference of the two sets is:\", sym_diff)"
   ]
  },
  {
   "cell_type": "markdown",
   "id": "aabc4d98-90c3-446e-a442-e5632e51147d",
   "metadata": {},
   "source": [
    "#### Q31.  Write a code that takes a list of words as input and returns a dictionary where the keys are unique words and the values are the frequencies of those words in the input list."
   ]
  },
  {
   "cell_type": "code",
   "execution_count": 73,
   "id": "460d8038-6c52-46c5-9715-ef28c6e7c7eb",
   "metadata": {},
   "outputs": [
    {
     "name": "stdin",
     "output_type": "stream",
     "text": [
      "Enter a list of words (comma-separated):  apple, banana, apple, orange, banana, apple\n"
     ]
    },
    {
     "name": "stdout",
     "output_type": "stream",
     "text": [
      "Word frequencies: {'apple': 3, 'banana': 2, 'orange': 1}\n"
     ]
    }
   ],
   "source": [
    "# Input: List of words (comma-separated)\n",
    "words_list = input(\"Enter a list of words (comma-separated): \").split(',')\n",
    "\n",
    "# Remove leading and trailing whitespaces from each word\n",
    "words_list = [word.strip() for word in words_list]\n",
    "\n",
    "# Initialize an empty dictionary to store word frequencies\n",
    "frequency_dict = {}\n",
    "\n",
    "# Count the frequencies of each word\n",
    "for word in words_list:\n",
    "    if word in frequency_dict:\n",
    "        frequency_dict[word] += 1\n",
    "    else:\n",
    "        frequency_dict[word] = 1\n",
    "\n",
    "# Output the result\n",
    "print(\"Word frequencies:\", frequency_dict)"
   ]
  },
  {
   "cell_type": "markdown",
   "id": "084569e2-f241-4059-a209-1f98855bd5ad",
   "metadata": {},
   "source": [
    "#### Q32. Write a code that takes two dictionaries as input and merges them into a single dictionary. If there are common keys, the values should be added together."
   ]
  },
  {
   "cell_type": "code",
   "execution_count": 74,
   "id": "1d46f635-4965-4838-86b5-9887c6cfcd55",
   "metadata": {},
   "outputs": [
    {
     "name": "stdin",
     "output_type": "stream",
     "text": [
      "Enter the first dictionary:  {'a': 1, 'b': 2, 'c': 3}\n",
      "Enter the second dictionary:  {'b': 3, 'c': 4, 'd': 5}\n"
     ]
    },
    {
     "name": "stdout",
     "output_type": "stream",
     "text": [
      "Merged dictionary: {'a': 1, 'b': 5, 'c': 7, 'd': 5}\n"
     ]
    }
   ],
   "source": [
    "# Input: Two dictionaries\n",
    "dict1 = eval(input(\"Enter the first dictionary: \"))\n",
    "dict2 = eval(input(\"Enter the second dictionary: \"))\n",
    "\n",
    "# Initialize a new dictionary for the result\n",
    "merged_dict = dict1.copy()\n",
    "\n",
    "# Merge the dictionaries\n",
    "for key, value in dict2.items():\n",
    "    if key in merged_dict:\n",
    "        merged_dict[key] += value  # Add values for common keys\n",
    "    else:\n",
    "        merged_dict[key] = value  # Add new key-value pair\n",
    "\n",
    "# Output the merged dictionary\n",
    "print(\"Merged dictionary:\", merged_dict)\n"
   ]
  },
  {
   "cell_type": "markdown",
   "id": "10ce070d-3f51-4825-8521-ce6a22a3de4b",
   "metadata": {},
   "source": [
    "#### Q. 33 Write a code to access a value in a nested dictionary. The function should take the dictionary and a list of keys as input, and return the corresponding value. If any of the keys do not exist in the dictionary, the function should return None"
   ]
  },
  {
   "cell_type": "code",
   "execution_count": 75,
   "id": "3a704e39-8d3e-4a9a-a764-52f9c445a47f",
   "metadata": {},
   "outputs": [
    {
     "name": "stdin",
     "output_type": "stream",
     "text": [
      "Enter the nested dictionary:  {'a': {'b': {'c': 42}}, 'x': {'y': 100}}\n",
      "Enter the keys to access the value (comma-separated):  a,b,c\n"
     ]
    },
    {
     "name": "stdout",
     "output_type": "stream",
     "text": [
      "The value for the given keys is: 42\n"
     ]
    }
   ],
   "source": [
    "def access_nested_value(nested_dict, keys_list):\n",
    "    current = nested_dict\n",
    "    for key in keys_list:\n",
    "        if key in current:\n",
    "            current = current[key]  # Move deeper into the dictionary\n",
    "        else:\n",
    "            return None  # Return None if the key doesn't exist\n",
    "    return current  # Return the final value\n",
    "\n",
    "# Input: Nested dictionary\n",
    "nested_dict = eval(input(\"Enter the nested dictionary: \"))\n",
    "\n",
    "# Input: List of keys to traverse\n",
    "keys_list = input(\"Enter the keys to access the value (comma-separated): \").split(',')\n",
    "\n",
    "# Access the value\n",
    "result = access_nested_value(nested_dict, keys_list)\n",
    "\n",
    "# Output the result\n",
    "print(\"The value for the given keys is:\", result)"
   ]
  },
  {
   "cell_type": "markdown",
   "id": "43a699b6-4eae-451d-be25-b6abdd539e0c",
   "metadata": {},
   "source": [
    "#### Q34. Write a code that takes a dictionary as input and returns a sorted version of it based on the values. You can choose whether to sort in ascending or descending order."
   ]
  },
  {
   "cell_type": "code",
   "execution_count": 76,
   "id": "8ca5ae3c-67a8-40d6-9b2a-d99bf613246d",
   "metadata": {},
   "outputs": [
    {
     "name": "stdin",
     "output_type": "stream",
     "text": [
      "Enter a dictionary:  {'a': 3, 'b': 1, 'c': 2}\n",
      "Sort in ascending or descending order? (asc/desc):  asc\n"
     ]
    },
    {
     "name": "stdout",
     "output_type": "stream",
     "text": [
      "Sorted dictionary: {'b': 1, 'c': 2, 'a': 3}\n"
     ]
    }
   ],
   "source": [
    "# Input: Dictionary and sorting preference\n",
    "input_dict = eval(input(\"Enter a dictionary: \"))\n",
    "order = input(\"Sort in ascending or descending order? (asc/desc): \").strip().lower()\n",
    "\n",
    "# Sort the dictionary based on values\n",
    "if order == \"asc\":\n",
    "    sorted_dict = dict(sorted(input_dict.items(), key=lambda item: item[1]))\n",
    "elif order == \"desc\":\n",
    "    sorted_dict = dict(sorted(input_dict.items(), key=lambda item: item[1], reverse=True))\n",
    "else:\n",
    "    print(\"Invalid input for order. Please choose 'asc' or 'desc'.\")\n",
    "    sorted_dict = None\n",
    "\n",
    "# Output the sorted dictionary\n",
    "if sorted_dict is not None:\n",
    "    print(\"Sorted dictionary:\", sorted_dict)\n"
   ]
  },
  {
   "cell_type": "markdown",
   "id": "dba7852d-4001-4f54-beb1-81e0ebf46649",
   "metadata": {},
   "source": [
    "#### Q35. Write a code that inverts a dictionary, swapping keys and values. Ensure that the inverted dictionary correctly handles cases where multiple keys have the same value by storing the keys as a list in the inverted dictionary."
   ]
  },
  {
   "cell_type": "code",
   "execution_count": 77,
   "id": "eb880eaa-4033-4be4-a484-b8a3f919fba4",
   "metadata": {},
   "outputs": [
    {
     "name": "stdin",
     "output_type": "stream",
     "text": [
      "Enter a dictionary:  {'a': 1, 'b': 2, 'c': 1, 'd': 3, 'e': 2}\n"
     ]
    },
    {
     "name": "stdout",
     "output_type": "stream",
     "text": [
      "Inverted dictionary: {1: ['a', 'c'], 2: ['b', 'e'], 3: ['d']}\n"
     ]
    }
   ],
   "source": [
    "# Input: Dictionary\n",
    "input_dict = eval(input(\"Enter a dictionary: \"))\n",
    "\n",
    "# Initialize the inverted dictionary\n",
    "inverted_dict = {}\n",
    "\n",
    "# Iterate through the input dictionary\n",
    "for key, value in input_dict.items():\n",
    "    if value in inverted_dict:\n",
    "        inverted_dict[value].append(key)  # Append key to the existing list\n",
    "    else:\n",
    "        inverted_dict[value] = [key]  # Create a new list for the value\n",
    "\n",
    "# Output the inverted dictionary\n",
    "print(\"Inverted dictionary:\", inverted_dict)\n"
   ]
  }
 ],
 "metadata": {
  "kernelspec": {
   "display_name": "Python 3 (ipykernel)",
   "language": "python",
   "name": "python3"
  },
  "language_info": {
   "codemirror_mode": {
    "name": "ipython",
    "version": 3
   },
   "file_extension": ".py",
   "mimetype": "text/x-python",
   "name": "python",
   "nbconvert_exporter": "python",
   "pygments_lexer": "ipython3",
   "version": "3.12.3"
  }
 },
 "nbformat": 4,
 "nbformat_minor": 5
}
